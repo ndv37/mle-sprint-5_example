{
 "cells": [
  {
   "cell_type": "code",
   "execution_count": 2,
   "metadata": {},
   "outputs": [],
   "source": [
    "# загружаем необходимые библиотеки\n",
    "import warnings\n",
    "\n",
    "import numpy as np\n",
    "import pandas as pd\n",
    "from sklearn.model_selection import train_test_split\n",
    "\n",
    "warnings.filterwarnings(\"ignore\")\n",
    "\n",
    "# загружаем датафрейм\n",
    "df = pd.read_csv(\"discountuplift.csv\", sep=\"\\t\")\n",
    "\n",
    "df[\"old_target\"] = (df[\"target_class\"] % 2).apply(int)\n",
    "\n",
    "feature_cols = [\n",
    "    \"recency\",\n",
    "    \"history\",\n",
    "    \"used_discount\",\n",
    "    \"used_bogo\",\n",
    "    \"is_referral\",\n",
    "    \"zip_code_Rural\",\n",
    "    \"zip_code_Surburban\",\n",
    "    \"zip_code_Urban\",\n",
    "    \"channel_Multichannel\",\n",
    "    \"channel_Phone\",\n",
    "    \"channel_Web\",\n",
    "]\n",
    "target_col = \"old_target\"\n",
    "treatment_col = \"treatment\"\n",
    "\n",
    "# разобъём нашу выборку на тестовую и валидационную\n",
    "df_train, df_test = train_test_split(\n",
    "    df, stratify=df[[treatment_col, target_col]], random_state=1, test_size=0.25\n",
    ")"
   ]
  },
  {
   "cell_type": "code",
   "execution_count": 3,
   "metadata": {},
   "outputs": [
    {
     "name": "stderr",
     "output_type": "stream",
     "text": [
      "Failed to import duecredit due to No module named 'duecredit'\n"
     ]
    }
   ],
   "source": [
    "from causalml.inference.tree import UpliftTreeClassifier\n",
    "\n",
    "# создадим uplift-дерево\n",
    "uplift_model = UpliftTreeClassifier(\n",
    "    max_depth=5,\n",
    "    min_samples_leaf=200,\n",
    "    min_samples_treatment=50,\n",
    "    n_reg=100,\n",
    "    evaluationFunction=\"ED\",\n",
    "    control_name=\"0\",\n",
    ")\n",
    "\n",
    "uplift_model.fit(\n",
    "    df_train[feature_cols].values,\n",
    "    treatment=df_train[treatment_col].apply(str).values,\n",
    "    y=df_train[target_col].values,\n",
    ")"
   ]
  },
  {
   "cell_type": "code",
   "execution_count": 4,
   "metadata": {},
   "outputs": [],
   "source": [
    "# загружаем необходимые библиотеки\n",
    "import pickle\n",
    "\n",
    "with open(\"model.pkl\", \"wb\") as f:\n",
    "    pickle.dump(uplift_model, f)"
   ]
  },
  {
   "cell_type": "code",
   "execution_count": 6,
   "metadata": {},
   "outputs": [],
   "source": [
    "with open(\"model.pkl\", \"rb\") as f:\n",
    "    uplift_model = pickle.load(f)"
   ]
  },
  {
   "cell_type": "code",
   "execution_count": 8,
   "metadata": {},
   "outputs": [
    {
     "name": "stdout",
     "output_type": "stream",
     "text": [
      "Ответ сервера: {'predict': [[0.12458471760797342, 0.21666666666666667]]}\n"
     ]
    }
   ],
   "source": [
    "import requests\n",
    "\n",
    "import numpy as np\n",
    "import pandas as pd\n",
    "\n",
    "discount = pd.read_csv(\"discountuplift.csv\", sep=\"\\t\")\n",
    "\n",
    "feature_cols = [\n",
    "    \"recency\",\n",
    "    \"history\",\n",
    "    \"used_discount\",\n",
    "    \"used_bogo\",\n",
    "    \"is_referral\",\n",
    "    \"zip_code_Rural\",\n",
    "    \"zip_code_Surburban\",\n",
    "    \"zip_code_Urban\",\n",
    "    \"channel_Multichannel\",\n",
    "    \"channel_Phone\",\n",
    "    \"channel_Web\",\n",
    "]\n",
    "\n",
    "# пример данных для запроса\n",
    "data = {\"features\": discount[feature_cols].sample(1).values.tolist()}\n",
    "\n",
    "# URL сервиса\n",
    "url = \"http://localhost:5000/predict\"\n",
    "\n",
    "# выполнение POST-запроса\n",
    "response = requests.post(url, json=data)\n",
    "\n",
    "# проверка ответа\n",
    "if response.status_code == 200:\n",
    "    print(\"Ответ сервера:\", response.json())\n",
    "else:\n",
    "    print(\"Ошибка:\", response.status_code, response.text)"
   ]
  },
  {
   "cell_type": "code",
   "execution_count": null,
   "metadata": {},
   "outputs": [],
   "source": []
  }
 ],
 "metadata": {
  "kernelspec": {
   "display_name": "base",
   "language": "python",
   "name": "python3"
  },
  "language_info": {
   "codemirror_mode": {
    "name": "ipython",
    "version": 3
   },
   "file_extension": ".py",
   "mimetype": "text/x-python",
   "name": "python",
   "nbconvert_exporter": "python",
   "pygments_lexer": "ipython3",
   "version": "3.10.12"
  }
 },
 "nbformat": 4,
 "nbformat_minor": 2
}
